{
 "cells": [
  {
   "cell_type": "markdown",
   "metadata": {},
   "source": [
    "#1 probability of getting 5 questions right out of a 20 question exam, each question having 4 options\n",
    "Each question have a 1/4 probability of being correct: so p=1/4\n",
    "20 questions: so n=20\n",
    "5 question correct: so k=5"
   ]
  },
  {
   "cell_type": "code",
   "execution_count": 15,
   "metadata": {},
   "outputs": [],
   "source": [
    "from scipy import stats"
   ]
  },
  {
   "cell_type": "code",
   "execution_count": 23,
   "metadata": {},
   "outputs": [
    {
     "name": "stdout",
     "output_type": "stream",
     "text": [
      "20.23311518569235 percent\n"
     ]
    }
   ],
   "source": [
    "b = stats.binom(20,.25)\n",
    "probability = b.pmf(5)\n",
    "print(\"\" + str(probability*100) + \" percent\")"
   ]
  },
  {
   "cell_type": "markdown",
   "metadata": {},
   "source": [
    "#2 probablity of getting D 5 times on a die rolled 50 times\n",
    "n=50\n",
    "p = 1/6\n",
    "k=5"
   ]
  },
  {
   "cell_type": "code",
   "execution_count": 24,
   "metadata": {},
   "outputs": [
    {
     "name": "stdout",
     "output_type": "stream",
     "text": [
      "7.569975679309149 percent\n"
     ]
    }
   ],
   "source": [
    "b = stats.binom(50,.166)\n",
    "probability = b.pmf(5)\n",
    "print(\"\" + str(probability*100) +\" percent\")"
   ]
  },
  {
   "cell_type": "markdown",
   "metadata": {},
   "source": [
    "#3 pull two balls without replacement from an urn, 4 red & 6 black, list all possibilities\n",
    "since we're dealing with no replacement, the 2nd pull will have a different probability than the first pull, so red first and then black second will have a different probability than black first and red second, so both combinations must be shown"
   ]
  },
  {
   "cell_type": "code",
   "execution_count": 27,
   "metadata": {},
   "outputs": [
    {
     "name": "stdout",
     "output_type": "stream",
     "text": [
      "Probability of 1st red, 2nd red =13.333333333333334\n",
      "Probability of 1st red, 2nd black =26.666666666666668\n",
      "Probability of 1st black, 2nd red =26.666666666666668\n",
      "Probability of 1st black, 2nd black =33.33333333333333\n"
     ]
    }
   ],
   "source": [
    "#1st red, 2nd red\n",
    "p= ((4/10)*(3/9))\n",
    "print(\"Probability of 1st red, 2nd red =\" + str(p*100))\n",
    "#1st red, 2nd black\n",
    "p= ((4/10) * (6/9))\n",
    "print(\"Probability of 1st red, 2nd black =\" + str(p*100))\n",
    "#1st black, 2nd red\n",
    "p=((6/10)* (4/9))\n",
    "print(\"Probability of 1st black, 2nd red =\" + str(p*100))\n",
    "#1st black, 2nd black\n",
    "p=((6/10)* (5/9))\n",
    "print(\"Probability of 1st black, 2nd black =\" + str(p*100))"
   ]
  }
 ],
 "metadata": {
  "kernelspec": {
   "display_name": "Python 3",
   "language": "python",
   "name": "python3"
  },
  "language_info": {
   "codemirror_mode": {
    "name": "ipython",
    "version": 3
   },
   "file_extension": ".py",
   "mimetype": "text/x-python",
   "name": "python",
   "nbconvert_exporter": "python",
   "pygments_lexer": "ipython3",
   "version": "3.6.4"
  }
 },
 "nbformat": 4,
 "nbformat_minor": 2
}
